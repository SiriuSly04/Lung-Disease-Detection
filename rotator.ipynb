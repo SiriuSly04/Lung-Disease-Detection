{
 "cells": [
  {
   "cell_type": "code",
   "execution_count": 1,
   "metadata": {},
   "outputs": [],
   "source": [
    "\n",
    "\n",
    "def modify_image(im, crop_corner=None, crop_percent=5, rotate=0):\n",
    "\n",
    "    x, y = im.size\n",
    "    if crop_corner is not None:\n",
    "        crop_x, crop_y = [int(i * crop_percent / 100.0) for i in (x, y)]\n",
    "        size_x = x - crop_x\n",
    "        size_y = y - crop_y\n",
    "        if crop_corner in (1, 2):\n",
    "            crop_x = 0\n",
    "        if crop_corner in (2, 3):\n",
    "            crop_y = 0\n",
    "        im = im.crop((crop_x, crop_y, crop_x + size_x-1, crop_y + size_y-1))\n",
    "        im = im.resize((x, y), Image.BICUBIC)\n",
    "\n",
    "    im = im.rotate(rotate, expand=True)\n",
    "    return im"
   ]
  },
  {
   "cell_type": "code",
   "execution_count": 2,
   "metadata": {},
   "outputs": [],
   "source": [
    "from PIL import Image"
   ]
  },
  {
   "cell_type": "code",
   "execution_count": 3,
   "metadata": {},
   "outputs": [
    {
     "ename": "FileNotFoundError",
     "evalue": "[Errno 2] No such file or directory: 'D:/MINOR PROJECT/latst/LungcancerDataSet/Data/valid/adenocarcinoma_left.lower.lobe_T2_N0_M0_Ib000108 (7).png'",
     "output_type": "error",
     "traceback": [
      "\u001b[1;31m---------------------------------------------------------------------------\u001b[0m",
      "\u001b[1;31mFileNotFoundError\u001b[0m                         Traceback (most recent call last)",
      "\u001b[1;32md:\\Lung_Cancer\\rotator.ipynb Cell 3\u001b[0m in \u001b[0;36m<cell line: 7>\u001b[1;34m()\u001b[0m\n\u001b[0;32m      <a href='vscode-notebook-cell:/d%3A/Lung_Cancer/rotator.ipynb#W2sZmlsZQ%3D%3D?line=5'>6</a>\u001b[0m i \u001b[39m=\u001b[39m \u001b[39m1\u001b[39m\n\u001b[0;32m      <a href='vscode-notebook-cell:/d%3A/Lung_Cancer/rotator.ipynb#W2sZmlsZQ%3D%3D?line=6'>7</a>\u001b[0m \u001b[39mfor\u001b[39;00m image \u001b[39min\u001b[39;00m os\u001b[39m.\u001b[39mlistdir(\u001b[39mdir\u001b[39m):\n\u001b[1;32m----> <a href='vscode-notebook-cell:/d%3A/Lung_Cancer/rotator.ipynb#W2sZmlsZQ%3D%3D?line=7'>8</a>\u001b[0m     test_image \u001b[39m=\u001b[39m Image\u001b[39m.\u001b[39;49mopen(\u001b[39mdir\u001b[39;49m \u001b[39m+\u001b[39;49m image)\n\u001b[0;32m      <a href='vscode-notebook-cell:/d%3A/Lung_Cancer/rotator.ipynb#W2sZmlsZQ%3D%3D?line=8'>9</a>\u001b[0m     new_image \u001b[39m=\u001b[39m modify_image(test_image, rotate\u001b[39m=\u001b[39m\u001b[39m0\u001b[39m)\n\u001b[0;32m     <a href='vscode-notebook-cell:/d%3A/Lung_Cancer/rotator.ipynb#W2sZmlsZQ%3D%3D?line=9'>10</a>\u001b[0m     new_image \u001b[39m=\u001b[39m new_image\u001b[39m.\u001b[39mresize((\u001b[39m256\u001b[39m, \u001b[39m256\u001b[39m))\n",
      "File \u001b[1;32mc:\\Users\\91835\\AppData\\Local\\Programs\\Python\\Python39\\lib\\site-packages\\PIL\\Image.py:2953\u001b[0m, in \u001b[0;36mopen\u001b[1;34m(fp, mode, formats)\u001b[0m\n\u001b[0;32m   2950\u001b[0m     filename \u001b[39m=\u001b[39m fp\n\u001b[0;32m   2952\u001b[0m \u001b[39mif\u001b[39;00m filename:\n\u001b[1;32m-> 2953\u001b[0m     fp \u001b[39m=\u001b[39m builtins\u001b[39m.\u001b[39;49mopen(filename, \u001b[39m\"\u001b[39;49m\u001b[39mrb\u001b[39;49m\u001b[39m\"\u001b[39;49m)\n\u001b[0;32m   2954\u001b[0m     exclusive_fp \u001b[39m=\u001b[39m \u001b[39mTrue\u001b[39;00m\n\u001b[0;32m   2956\u001b[0m \u001b[39mtry\u001b[39;00m:\n",
      "\u001b[1;31mFileNotFoundError\u001b[0m: [Errno 2] No such file or directory: 'D:/MINOR PROJECT/latst/LungcancerDataSet/Data/valid/adenocarcinoma_left.lower.lobe_T2_N0_M0_Ib000108 (7).png'"
     ]
    }
   ],
   "source": [
    "import os\n",
    "\n",
    "dir = 'D:/MINOR PROJECT/latst/LungcancerDataSet/Data/valid/adenocarcinoma_left.lower.lobe_T2_N0_M0_Ib'\n",
    "save_dir = './valid/adenocarcinoma/'\n",
    "\n",
    "i = 1\n",
    "for image in os.listdir(dir):\n",
    "    test_image = Image.open(dir + image)\n",
    "    new_image = modify_image(test_image, rotate=0)\n",
    "    new_image = new_image.resize((256, 256))\n",
    "    print(new_image.size)\n",
    "    new_image.save(save_dir+'adenocarcinoma'+str(i)+'.png')\n",
    "    i=i+1\n",
    "    \n"
   ]
  }
 ],
 "metadata": {
  "kernelspec": {
   "display_name": "Python 3",
   "language": "python",
   "name": "python3"
  },
  "language_info": {
   "codemirror_mode": {
    "name": "ipython",
    "version": 3
   },
   "file_extension": ".py",
   "mimetype": "text/x-python",
   "name": "python",
   "nbconvert_exporter": "python",
   "pygments_lexer": "ipython3",
   "version": "3.9.6"
  },
  "orig_nbformat": 4,
  "vscode": {
   "interpreter": {
    "hash": "f2ccb58c476f33ba3e3aee7ac07234ef6b8217ef24ad64d2a7d4fed1a57c1cd2"
   }
  }
 },
 "nbformat": 4,
 "nbformat_minor": 2
}
